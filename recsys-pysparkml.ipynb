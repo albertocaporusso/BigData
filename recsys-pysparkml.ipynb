{
 "cells": [
  {
   "cell_type": "markdown",
   "metadata": {
    "papermill": {
     "duration": 0.018595,
     "end_time": "2022-04-19T00:29:26.164168",
     "exception": false,
     "start_time": "2022-04-19T00:29:26.145573",
     "status": "completed"
    },
    "tags": []
   },
   "source": [
    "## Introduction\n",
    "A book recommender system using collaborative-filtering, built using PySpark.\n",
    "- Create spark session and load data into spark dataframe\n",
    "- Feature engineering\n",
    "    - Convert string cols to integer\n",
    "- Model\n",
    "    - Alternating Least Squares (ALS) model for collaborative filtering from Spark ML Lib\n",
    "    - Fit model to train set\n",
    "    - Predict on test set and evaluate root mean squared error (RMSE)\n",
    "- Generate recommendations\n",
    "    - Predict ratings on unrated books for each user, using fitted model\n",
    "    - Recommend top-n books"
   ]
  },
  {
   "cell_type": "markdown",
   "metadata": {
    "papermill": {
     "duration": 0.235101,
     "end_time": "2022-04-19T00:30:34.325867",
     "exception": false,
     "start_time": "2022-04-19T00:30:34.090766",
     "status": "completed"
    },
    "tags": []
   },
   "source": [
    "### Imports"
   ]
  },
  {
   "cell_type": "code",
   "execution_count": 18,
   "metadata": {
    "execution": {
     "iopub.execute_input": "2022-04-19T00:30:34.808492Z",
     "iopub.status.busy": "2022-04-19T00:30:34.807720Z",
     "iopub.status.idle": "2022-04-19T00:30:35.927575Z",
     "shell.execute_reply": "2022-04-19T00:30:35.926993Z",
     "shell.execute_reply.started": "2022-04-15T11:17:30.505775Z"
    },
    "papermill": {
     "duration": 1.364717,
     "end_time": "2022-04-19T00:30:35.927707",
     "exception": false,
     "start_time": "2022-04-19T00:30:34.562990",
     "status": "completed"
    },
    "tags": []
   },
   "outputs": [],
   "source": [
    "# core\n",
    "import numpy as np # linear algebra\n",
    "import pandas as pd # data processing, CSV file I/O (e.g. pd.read_csv)\n",
    "import matplotlib.pyplot as plt\n",
    "import sklearn\n",
    "import random, os\n",
    "# spark & ML\n",
    "from pyspark.sql import SparkSession, SQLContext\n",
    "from pyspark.sql.functions import col\n",
    "from pyspark.ml.feature import StringIndexer\n",
    "from pyspark.ml.recommendation import ALS\n",
    "from pyspark.ml.evaluation import RegressionEvaluator"
   ]
  },
  {
   "cell_type": "code",
   "execution_count": 2,
   "metadata": {
    "execution": {
     "iopub.execute_input": "2022-04-19T00:30:36.423682Z",
     "iopub.status.busy": "2022-04-19T00:30:36.422925Z",
     "iopub.status.idle": "2022-04-19T00:30:43.194121Z",
     "shell.execute_reply": "2022-04-19T00:30:43.192634Z",
     "shell.execute_reply.started": "2022-04-15T11:17:31.50887Z"
    },
    "papermill": {
     "duration": 7.024807,
     "end_time": "2022-04-19T00:30:43.194355",
     "exception": false,
     "start_time": "2022-04-19T00:30:36.169548",
     "status": "completed"
    },
    "tags": []
   },
   "outputs": [],
   "source": [
    "# create spark session\n",
    "#spark = SparkSession.builder.appName('Recommender').config(\"spark.driver.memory\", \"12g\").getOrCreate()\n",
    "spark = SparkSession.builder.appName('rec-sys').config(\"spark.python.profile.memory\",\"true\").config(\"spark.driver.memory\", \"15g\").config(\"spark.executor.memory\", \"15g\").getOrCreate()"
   ]
  },
  {
   "cell_type": "code",
   "execution_count": 3,
   "metadata": {},
   "outputs": [],
   "source": [
    "#spark.stop()"
   ]
  },
  {
   "cell_type": "markdown",
   "metadata": {
    "papermill": {
     "duration": 0.232823,
     "end_time": "2022-04-19T00:30:43.678363",
     "exception": false,
     "start_time": "2022-04-19T00:30:43.445540",
     "status": "completed"
    },
    "tags": []
   },
   "source": [
    "## Data and preprocessing"
   ]
  },
  {
   "cell_type": "code",
   "execution_count": 5,
   "metadata": {
    "execution": {
     "iopub.execute_input": "2022-04-19T00:30:44.156659Z",
     "iopub.status.busy": "2022-04-19T00:30:44.155618Z",
     "iopub.status.idle": "2022-04-19T00:30:53.227229Z",
     "shell.execute_reply": "2022-04-19T00:30:53.228385Z",
     "shell.execute_reply.started": "2022-04-15T11:17:37.221413Z"
    },
    "papermill": {
     "duration": 9.31473,
     "end_time": "2022-04-19T00:30:53.228725",
     "exception": false,
     "start_time": "2022-04-19T00:30:43.913995",
     "status": "completed"
    },
    "tags": []
   },
   "outputs": [
    {
     "name": "stdout",
     "output_type": "stream",
     "text": [
      "+-------+----------+-----------+\n",
      "|User-ID|      ISBN|Book-Rating|\n",
      "+-------+----------+-----------+\n",
      "| 276725|034545104X|          0|\n",
      "| 276726|0155061224|          5|\n",
      "| 276727|0446520802|          0|\n",
      "| 276729|052165615X|          3|\n",
      "| 276729|0521795028|          6|\n",
      "| 276733|2080674722|          0|\n",
      "| 276736|3257224281|          8|\n",
      "| 276737|0600570967|          6|\n",
      "| 276744|038550120X|          7|\n",
      "| 276745| 342310538|         10|\n",
      "| 276746|0425115801|          0|\n",
      "| 276746|0449006522|          0|\n",
      "| 276746|0553561618|          0|\n",
      "| 276746|055356451X|          0|\n",
      "| 276746|0786013990|          0|\n",
      "| 276746|0786014512|          0|\n",
      "| 276747|0060517794|          9|\n",
      "| 276747|0451192001|          0|\n",
      "| 276747|0609801279|          0|\n",
      "| 276747|0671537458|          9|\n",
      "+-------+----------+-----------+\n",
      "only showing top 20 rows\n",
      "\n"
     ]
    }
   ],
   "source": [
    "# load data into spark dataframe\n",
    "ratings_df = spark.read.csv('BX-Book-Ratings.csv', sep=';',\n",
    "                            inferSchema=True,header=True)\n",
    "ratings_df.show()"
   ]
  },
  {
   "cell_type": "code",
   "execution_count": 6,
   "metadata": {},
   "outputs": [],
   "source": [
    "import py4j.protocol\n",
    "from py4j.protocol import Py4JJavaError\n",
    "from py4j.java_gateway import JavaObject\n",
    "from py4j.java_collections import JavaArray, JavaList\n",
    "\n",
    "from pyspark import RDD, SparkContext\n",
    "from pyspark.serializers import PickleSerializer, AutoBatchedSerializer"
   ]
  },
  {
   "cell_type": "code",
   "execution_count": 7,
   "metadata": {},
   "outputs": [
    {
     "data": {
      "text/plain": [
       "4414360"
      ]
     },
     "execution_count": 7,
     "metadata": {},
     "output_type": "execute_result"
    }
   ],
   "source": [
    "def _to_java_object_rdd(rdd):\n",
    "    \"\"\" Return a JavaRDD of Object by unpickling\n",
    "    It will convert each Python object into Java object by Pyrolite, whenever the\n",
    "    RDD is serialized in batch or not.\n",
    "    \"\"\"\n",
    "    rdd = rdd._reserialize(AutoBatchedSerializer(PickleSerializer()))\n",
    "    return rdd.ctx._jvm.org.apache.spark.mllib.api.python.SerDe.pythonToJava(rdd._jrdd, True)\n",
    "\n",
    "JavaObj = _to_java_object_rdd(ratings_df.rdd)\n",
    "spark._jvm.org.apache.spark.util.SizeEstimator.estimate(ratings_df._jdf)"
   ]
  },
  {
   "cell_type": "code",
   "execution_count": 8,
   "metadata": {},
   "outputs": [
    {
     "name": "stdout",
     "output_type": "stream",
     "text": [
      "<class 'pandas.core.frame.DataFrame'>\n",
      "RangeIndex: 1149780 entries, 0 to 1149779\n",
      "Data columns (total 3 columns):\n",
      " #   Column       Non-Null Count    Dtype \n",
      "---  ------       --------------    ----- \n",
      " 0   User-ID      1149780 non-null  int32 \n",
      " 1   ISBN         1149780 non-null  object\n",
      " 2   Book-Rating  1149780 non-null  int32 \n",
      "dtypes: int32(2), object(1)\n",
      "memory usage: 17.5+ MB\n"
     ]
    }
   ],
   "source": [
    "ratings_df.toPandas().info()"
   ]
  },
  {
   "cell_type": "code",
   "execution_count": 9,
   "metadata": {
    "execution": {
     "iopub.execute_input": "2022-04-19T00:30:53.738077Z",
     "iopub.status.busy": "2022-04-19T00:30:53.737240Z",
     "iopub.status.idle": "2022-04-19T00:30:53.756070Z",
     "shell.execute_reply": "2022-04-19T00:30:53.754797Z",
     "shell.execute_reply.started": "2022-04-15T11:17:44.287162Z"
    },
    "papermill": {
     "duration": 0.268399,
     "end_time": "2022-04-19T00:30:53.756227",
     "exception": false,
     "start_time": "2022-04-19T00:30:53.487828",
     "status": "completed"
    },
    "tags": []
   },
   "outputs": [
    {
     "name": "stdout",
     "output_type": "stream",
     "text": [
      "root\n",
      " |-- User-ID: integer (nullable = true)\n",
      " |-- ISBN: string (nullable = true)\n",
      " |-- Book-Rating: integer (nullable = true)\n",
      "\n"
     ]
    }
   ],
   "source": [
    "# show schema\n",
    "ratings_df.printSchema()"
   ]
  },
  {
   "cell_type": "code",
   "execution_count": 10,
   "metadata": {
    "execution": {
     "iopub.execute_input": "2022-04-19T00:30:54.232133Z",
     "iopub.status.busy": "2022-04-19T00:30:54.231351Z",
     "iopub.status.idle": "2022-04-19T00:30:56.516642Z",
     "shell.execute_reply": "2022-04-19T00:30:56.515667Z",
     "shell.execute_reply.started": "2022-04-15T15:29:09.202983Z"
    },
    "papermill": {
     "duration": 2.521305,
     "end_time": "2022-04-19T00:30:56.516849",
     "exception": false,
     "start_time": "2022-04-19T00:30:53.995544",
     "status": "completed"
    },
    "tags": []
   },
   "outputs": [
    {
     "name": "stdout",
     "output_type": "stream",
     "text": [
      "+----------+--------------------+--------------------+-------------------+--------------------+\n",
      "|      ISBN|          Book-Title|         Book-Author|Year-Of-Publication|           Publisher|\n",
      "+----------+--------------------+--------------------+-------------------+--------------------+\n",
      "|0195153448| Classical Mythology|  Mark P. O. Morford|               2002|Oxford University...|\n",
      "|0002005018|        Clara Callan|Richard Bruce Wright|               2001|HarperFlamingo Ca...|\n",
      "|0060973129|Decision in Normandy|        Carlo D'Este|               1991|     HarperPerennial|\n",
      "|0374157065|Flu: The Story of...|    Gina Bari Kolata|               1999|Farrar Straus Giroux|\n",
      "|0393045218|The Mummies of Ur...|     E. J. W. Barber|               1999|W. W. Norton &amp...|\n",
      "|0399135782|The Kitchen God's...|             Amy Tan|               1991|    Putnam Pub Group|\n",
      "|0425176428|What If?: The Wor...|       Robert Cowley|               2000|Berkley Publishin...|\n",
      "|0671870432|     PLEADING GUILTY|         Scott Turow|               1993|          Audioworks|\n",
      "|0679425608|Under the Black F...|     David Cordingly|               1996|        Random House|\n",
      "|074322678X|Where You'll Find...|         Ann Beattie|               2002|            Scribner|\n",
      "|0771074670|Nights Below Stat...|David Adams Richards|               1988|     Emblem Editions|\n",
      "|080652121X|Hitler's Secret B...|          Adam Lebor|               2000|       Citadel Press|\n",
      "|0887841740|  The Middle Stories|         Sheila Heti|               2004|House of Anansi P...|\n",
      "|1552041778|            Jane Doe|        R. J. Kaiser|               1999|          Mira Books|\n",
      "|1558746218|A Second Chicken ...|       Jack Canfield|               1998|Health Communicat...|\n",
      "|1567407781|The Witchfinder (...|   Loren D. Estleman|               1998|Brilliance Audio ...|\n",
      "|1575663937|More Cunning Than...|  Robert Hendrickson|               1999|Kensington Publis...|\n",
      "|1881320189|Goodbye to the Bu...|        Julia Oliver|               1994|      River City Pub|\n",
      "|0440234743|       The Testament|        John Grisham|               1999|                Dell|\n",
      "|0452264464|Beloved (Plume Co...|       Toni Morrison|               1994|               Plume|\n",
      "+----------+--------------------+--------------------+-------------------+--------------------+\n",
      "only showing top 20 rows\n",
      "\n"
     ]
    }
   ],
   "source": [
    "# load books data into spark dataframe\n",
    "books_df = spark.read.csv('BX-Books.csv', sep=';', inferSchema=True, header=True)\n",
    "books_df = books_df.drop('Image-URL-S', 'Image-URL-M', 'Image-URL-L')\n",
    "books_df.show()"
   ]
  },
  {
   "cell_type": "code",
   "execution_count": 11,
   "metadata": {
    "execution": {
     "iopub.execute_input": "2022-04-19T00:30:57.042073Z",
     "iopub.status.busy": "2022-04-19T00:30:57.040822Z",
     "iopub.status.idle": "2022-04-19T00:31:06.538388Z",
     "shell.execute_reply": "2022-04-19T00:31:06.537566Z",
     "shell.execute_reply.started": "2022-04-15T11:17:45.859901Z"
    },
    "papermill": {
     "duration": 9.74291,
     "end_time": "2022-04-19T00:31:06.538577",
     "exception": false,
     "start_time": "2022-04-19T00:30:56.795667",
     "status": "completed"
    },
    "tags": []
   },
   "outputs": [
    {
     "name": "stdout",
     "output_type": "stream",
     "text": [
      "+-------+----------+-----------+--------+\n",
      "|User-ID|      ISBN|Book-Rating|ISBN_int|\n",
      "+-------+----------+-----------+--------+\n",
      "| 276726|0155061224|          5| 89067.0|\n",
      "| 276729|052165615X|          3|205984.0|\n",
      "| 276729|0521795028|          6|206014.0|\n",
      "| 276736|3257224281|          8| 43132.0|\n",
      "| 276737|0600570967|          6|216574.0|\n",
      "| 276744|038550120X|          7|   232.0|\n",
      "| 276745| 342310538|         10|135627.0|\n",
      "| 276747|0060517794|          9|  1413.0|\n",
      "| 276747|0671537458|          9|   914.0|\n",
      "| 276747|0679776818|          8|  2367.0|\n",
      "| 276747|0943066433|          7|273158.0|\n",
      "| 276747|1885408226|          7|296143.0|\n",
      "| 276748|0747558167|          6| 53332.0|\n",
      "| 276751|3596218098|          8| 28525.0|\n",
      "| 276754|0684867621|          8|   562.0|\n",
      "| 276755|0451166892|          5|   148.0|\n",
      "| 276760|8440682697|         10|325376.0|\n",
      "| 276762|0380711524|          5|  2387.0|\n",
      "| 276762|3453092007|          8| 43258.0|\n",
      "| 276762|3453213025|          3|310147.0|\n",
      "+-------+----------+-----------+--------+\n",
      "only showing top 20 rows\n",
      "\n"
     ]
    }
   ],
   "source": [
    "# convert string to int for ALS\n",
    "stringToInt = StringIndexer(inputCol='ISBN', outputCol='ISBN_int').fit(ratings_df)\n",
    "ratings_dfs = stringToInt.transform(ratings_df)\n",
    "ratings_df = ratings_dfs.filter(ratings_dfs['Book-Rating'] != 0)\n",
    "ratings_df.show()"
   ]
  },
  {
   "cell_type": "code",
   "execution_count": 16,
   "metadata": {},
   "outputs": [],
   "source": [
    "spark.sparkContext.show_profiles()"
   ]
  },
  {
   "cell_type": "code",
   "execution_count": 12,
   "metadata": {},
   "outputs": [
    {
     "name": "stdout",
     "output_type": "stream",
     "text": [
      "+-------+----------+-----------+--------+\n",
      "|User-ID|      ISBN|Book-Rating|ISBN_int|\n",
      "+-------+----------+-----------+--------+\n",
      "| 276725|034545104X|          0|  1637.0|\n",
      "| 276726|0155061224|          5| 89067.0|\n",
      "| 276727|0446520802|          0|   568.0|\n",
      "| 276729|052165615X|          3|205984.0|\n",
      "| 276729|0521795028|          6|206014.0|\n",
      "| 276733|2080674722|          0| 80774.0|\n",
      "| 276736|3257224281|          8| 43132.0|\n",
      "| 276737|0600570967|          6|216574.0|\n",
      "| 276744|038550120X|          7|   232.0|\n",
      "| 276745| 342310538|         10|135627.0|\n",
      "| 276746|0425115801|          0|   445.0|\n",
      "| 276746|0449006522|          0|   606.0|\n",
      "| 276746|0553561618|          0|   424.0|\n",
      "| 276746|055356451X|          0|   286.0|\n",
      "| 276746|0786013990|          0| 27579.0|\n",
      "| 276746|0786014512|          0| 15790.0|\n",
      "| 276747|0060517794|          9|  1413.0|\n",
      "| 276747|0451192001|          0|   937.0|\n",
      "| 276747|0609801279|          0|  6511.0|\n",
      "| 276747|0671537458|          9|   914.0|\n",
      "+-------+----------+-----------+--------+\n",
      "only showing top 20 rows\n",
      "\n"
     ]
    }
   ],
   "source": [
    "ratings_dfs.show(20)"
   ]
  },
  {
   "cell_type": "code",
   "execution_count": 13,
   "metadata": {
    "execution": {
     "iopub.execute_input": "2022-04-19T00:31:07.183137Z",
     "iopub.status.busy": "2022-04-19T00:31:07.181922Z",
     "iopub.status.idle": "2022-04-19T00:31:07.212858Z",
     "shell.execute_reply": "2022-04-19T00:31:07.212213Z",
     "shell.execute_reply.started": "2022-04-15T11:17:56.277954Z"
    },
    "papermill": {
     "duration": 0.299453,
     "end_time": "2022-04-19T00:31:07.213006",
     "exception": false,
     "start_time": "2022-04-19T00:31:06.913553",
     "status": "completed"
    },
    "tags": []
   },
   "outputs": [],
   "source": [
    "# split data into training and test datatset\n",
    "train_df, test_df = ratings_df.randomSplit([0.8,0.2])"
   ]
  },
  {
   "cell_type": "markdown",
   "metadata": {
    "papermill": {
     "duration": 0.230037,
     "end_time": "2022-04-19T00:31:07.672464",
     "exception": false,
     "start_time": "2022-04-19T00:31:07.442427",
     "status": "completed"
    },
    "tags": []
   },
   "source": [
    "## Model"
   ]
  },
  {
   "cell_type": "code",
   "execution_count": 9,
   "metadata": {
    "execution": {
     "iopub.execute_input": "2022-04-19T00:31:08.141503Z",
     "iopub.status.busy": "2022-04-19T00:31:08.140668Z",
     "iopub.status.idle": "2022-04-19T00:33:19.861514Z",
     "shell.execute_reply": "2022-04-19T00:33:19.862915Z",
     "shell.execute_reply.started": "2022-04-15T11:17:56.277954Z"
    },
    "papermill": {
     "duration": 131.959738,
     "end_time": "2022-04-19T00:33:19.863433",
     "exception": false,
     "start_time": "2022-04-19T00:31:07.903695",
     "status": "completed"
    },
    "tags": []
   },
   "outputs": [],
   "source": [
    "# ALS model\n",
    "rec_model = ALS( maxIter=20 ,regParam=0.01,userCol='User-ID',itemCol='ISBN_int',ratingCol='Book-Rating',\n",
    "                nonnegative=True, coldStartStrategy=\"drop\")\n",
    "\n",
    "rec_model = rec_model.fit(train_df)"
   ]
  },
  {
   "cell_type": "code",
   "execution_count": 16,
   "metadata": {},
   "outputs": [
    {
     "data": {
      "text/plain": [
       "10"
      ]
     },
     "execution_count": 16,
     "metadata": {},
     "output_type": "execute_result"
    }
   ],
   "source": []
  },
  {
   "cell_type": "code",
   "execution_count": 10,
   "metadata": {
    "execution": {
     "iopub.execute_input": "2022-04-19T00:33:20.388875Z",
     "iopub.status.busy": "2022-04-19T00:33:20.387862Z",
     "iopub.status.idle": "2022-04-19T00:33:20.648109Z",
     "shell.execute_reply": "2022-04-19T00:33:20.646534Z",
     "shell.execute_reply.started": "2022-04-15T11:19:45.919898Z"
    },
    "papermill": {
     "duration": 0.5049,
     "end_time": "2022-04-19T00:33:20.648305",
     "exception": false,
     "start_time": "2022-04-19T00:33:20.143405",
     "status": "completed"
    },
    "tags": []
   },
   "outputs": [],
   "source": [
    "# making predictions on test set\n",
    "predicted_ratings=rec_model.transform(test_df)"
   ]
  },
  {
   "cell_type": "code",
   "execution_count": 11,
   "metadata": {},
   "outputs": [
    {
     "name": "stdout",
     "output_type": "stream",
     "text": [
      "+-------+----------+-----------+--------+----------+\n",
      "|User-ID|      ISBN|Book-Rating|ISBN_int|prediction|\n",
      "+-------+----------+-----------+--------+----------+\n",
      "|  17950|0446605239|          6|    26.0| 5.6643753|\n",
      "|  11676|0446605239|          6|    26.0|  5.598119|\n",
      "|   6347|0446605239|          7|    26.0|  2.919608|\n",
      "| 278543|0446605239|          5|    26.0|  7.455864|\n",
      "|  36606|0446605239|         10|    26.0|  5.722691|\n",
      "|  18082|0446605239|          9|    26.0|  8.941052|\n",
      "|  26374|0446605239|          5|    26.0| 7.9713297|\n",
      "|  53174|0446605239|         10|    26.0| 10.003544|\n",
      "|  66323|0446605239|          4|    26.0|   6.82341|\n",
      "|  56554|0446605239|         10|    26.0|  6.007414|\n",
      "|  49277|0446605239|          7|    26.0| 11.355914|\n",
      "|  66473|0446605239|          8|    26.0|  6.300741|\n",
      "|  41460|0446605239|          4|    26.0| 5.7223916|\n",
      "|  43246|0446605239|          9|    26.0|  7.123988|\n",
      "|  82164|0446605239|          7|    26.0| 2.5638971|\n",
      "|  93631|0446605239|          2|    26.0| 3.2096481|\n",
      "|  98628|0446605239|         10|    26.0|  8.261912|\n",
      "| 148898|0446605239|         10|    26.0|  9.036073|\n",
      "| 149934|0446605239|          9|    26.0| 5.1534014|\n",
      "| 141493|0446605239|         10|    26.0| 5.0348773|\n",
      "+-------+----------+-----------+--------+----------+\n",
      "only showing top 20 rows\n",
      "\n"
     ]
    }
   ],
   "source": [
    "predicted_ratings.show(20)"
   ]
  },
  {
   "cell_type": "markdown",
   "metadata": {
    "papermill": {
     "duration": 0.231643,
     "end_time": "2022-04-19T00:33:21.125950",
     "exception": false,
     "start_time": "2022-04-19T00:33:20.894307",
     "status": "completed"
    },
    "tags": []
   },
   "source": [
    "## Evaluation"
   ]
  },
  {
   "cell_type": "code",
   "execution_count": 12,
   "metadata": {
    "execution": {
     "iopub.execute_input": "2022-04-19T00:33:21.599485Z",
     "iopub.status.busy": "2022-04-19T00:33:21.598754Z",
     "iopub.status.idle": "2022-04-19T00:33:40.485137Z",
     "shell.execute_reply": "2022-04-19T00:33:40.486034Z",
     "shell.execute_reply.started": "2022-04-15T11:40:44.091208Z"
    },
    "papermill": {
     "duration": 19.126323,
     "end_time": "2022-04-19T00:33:40.486258",
     "exception": false,
     "start_time": "2022-04-19T00:33:21.359935",
     "status": "completed"
    },
    "tags": []
   },
   "outputs": [
    {
     "data": {
      "text/plain": [
       "3.2397048668237725"
      ]
     },
     "execution_count": 12,
     "metadata": {},
     "output_type": "execute_result"
    }
   ],
   "source": [
    "# calculate RMSE\n",
    "evaluator = RegressionEvaluator(metricName='rmse', predictionCol='prediction',labelCol='Book-Rating')\n",
    "rmse = evaluator.evaluate(predicted_ratings)\n",
    "rmse"
   ]
  },
  {
   "cell_type": "markdown",
   "metadata": {
    "papermill": {
     "duration": 0.237815,
     "end_time": "2022-04-19T00:33:40.994233",
     "exception": false,
     "start_time": "2022-04-19T00:33:40.756418",
     "status": "completed"
    },
    "tags": []
   },
   "source": [
    "## Recommendation"
   ]
  },
  {
   "cell_type": "code",
   "execution_count": 13,
   "metadata": {
    "execution": {
     "iopub.execute_input": "2022-04-19T00:33:41.477131Z",
     "iopub.status.busy": "2022-04-19T00:33:41.476370Z",
     "iopub.status.idle": "2022-04-19T00:33:41.478452Z",
     "shell.execute_reply": "2022-04-19T00:33:41.479021Z",
     "shell.execute_reply.started": "2022-04-15T14:34:14.171728Z"
    },
    "papermill": {
     "duration": 0.24581,
     "end_time": "2022-04-19T00:33:41.479199",
     "exception": false,
     "start_time": "2022-04-19T00:33:41.233389",
     "status": "completed"
    },
    "tags": []
   },
   "outputs": [],
   "source": [
    "# function to recommend top-n books for a user using trained model\n",
    "def recommend_for_user(user_id, n):\n",
    "    ratings_user = ratings_dfs.filter(col('User-Id')==user_id)\n",
    "    pred_ratings_user = rec_model.transform(ratings_user.filter(col('Book-Rating')==0))\n",
    "    recs_user = books_df.join(pred_ratings_user.select(['ISBN', 'prediction']), on='ISBN')\n",
    "    recs_user = recs_user.sort('prediction', ascending=False).drop('prediction').limit(n)\n",
    "    return recs_user, pred_ratings_user"
   ]
  },
  {
   "cell_type": "code",
   "execution_count": 14,
   "metadata": {
    "execution": {
     "iopub.execute_input": "2022-04-19T00:33:41.955209Z",
     "iopub.status.busy": "2022-04-19T00:33:41.954427Z",
     "iopub.status.idle": "2022-04-19T00:34:01.904941Z",
     "shell.execute_reply": "2022-04-19T00:34:01.903258Z",
     "shell.execute_reply.started": "2022-04-15T14:36:04.982456Z"
    },
    "papermill": {
     "duration": 20.187863,
     "end_time": "2022-04-19T00:34:01.905187",
     "exception": false,
     "start_time": "2022-04-19T00:33:41.717324",
     "status": "completed"
    },
    "tags": []
   },
   "outputs": [
    {
     "name": "stdout",
     "output_type": "stream",
     "text": [
      "+----------+--------------------+--------------------+-------------------+--------------------+\n",
      "|      ISBN|          Book-Title|         Book-Author|Year-Of-Publication|           Publisher|\n",
      "+----------+--------------------+--------------------+-------------------+--------------------+\n",
      "|0743206053|Kitchen Privilege...|  Mary Higgins Clark|               2002|Simon &amp; Schuster|\n",
      "|0345463927|          Dead Wrong|      MARIAH STEWART|               2004|    Ballantine Books|\n",
      "|0066214440|Enemy Women: A Novel|      Paulette Jiles|               2002|William Morrow &a...|\n",
      "|0140113827|Murder at the Gar...|        Jane Langton|               1989|       Penguin Books|\n",
      "|0553571656|The Beekeeper's A...|      LAURIE R. KING|               1996|              Bantam|\n",
      "|0060740450|One Hundred Years...|Gabriel Garcia Ma...|               2004|           Perennial|\n",
      "|0440215730|Recalled to Life ...|       REGINALD HILL|               1993|                Dell|\n",
      "|0312966091|Three To Get Dead...|     Janet Evanovich|               1998|St. Martin's Pape...|\n",
      "|0060928336|Divine Secrets of...|       Rebecca Wells|               1997|           Perennial|\n",
      "|1575667673|     Island of Tears|           Troy Soos|               2001|Kensington Publis...|\n",
      "|0399142649|            The Maze|   Catherine Coulter|               1997|Putnam Publishing...|\n",
      "|0786890169|         Black Water| T. Jefferson Parker|               2003|            Hyperion|\n",
      "|0061097314|      The Bean Trees|  Barbara Kingsolver|               1998|         HarperTorch|\n",
      "|0380733285|Past Reason Hated...|      Peter Robinson|               2000|                Avon|\n",
      "|0553271636|D Is for Deadbeat...|         Sue Grafton|               1988|              Bantam|\n",
      "|0804108692|    Life on the Road|      Charles Kuralt|               1991|           Ivy Books|\n",
      "|0743204700|An Accidental Wom...|    Barbara Delinsky|               2002|Simon &amp; Schuster|\n",
      "|0425179672|      The River King|       Alice Hoffman|               2001|Berkley Publishin...|\n",
      "|0156658992|    The Nine Tailors|Dorothy Leigh Sayers|               1966|       Harvest Books|\n",
      "|0805036377|M Is for Malice (...|         Sue Grafton|               1996|Henry Holt &amp; ...|\n",
      "+----------+--------------------+--------------------+-------------------+--------------------+\n",
      "\n"
     ]
    }
   ],
   "source": [
    "recs_user, pred_ratings_user = recommend_for_user(240567, 20)\n",
    "recs_user.show()"
   ]
  },
  {
   "cell_type": "code",
   "execution_count": 15,
   "metadata": {},
   "outputs": [
    {
     "name": "stdout",
     "output_type": "stream",
     "text": [
      "+-------+----------+-----------+--------+----------+\n",
      "|User-ID|      ISBN|Book-Rating|ISBN_int|prediction|\n",
      "+-------+----------+-----------+--------+----------+\n",
      "| 240567|0743206053|          0|  3536.0|  8.962223|\n",
      "| 240567|0345463927|          0| 10103.0|  8.607035|\n",
      "| 240567|0066214440|          0|  1916.0|  8.446151|\n",
      "| 240567|0140113827|          0| 21128.0|   7.85118|\n",
      "| 240567|0553571656|          0|  1189.0|   7.75862|\n",
      "| 240567|0060740450|          0|   792.0| 7.7272353|\n",
      "| 240567|0440215730|          0| 10285.0|  7.612417|\n",
      "| 240567|0312966091|          0|   156.0|  7.599072|\n",
      "| 240567|0060928336|          0|     3.0|  7.399512|\n",
      "| 240567|1575667673|          0|130512.0| 7.3839936|\n",
      "| 240567|0399142649|          0| 13487.0|   7.37114|\n",
      "| 240567|0786890169|          0|  5860.0|  7.255721|\n",
      "| 240567|0061097314|          0|   404.0|  7.240314|\n",
      "| 240567|0380733285|          0| 25593.0|   7.21983|\n",
      "| 240567|0553271636|          0|   262.0| 7.1672974|\n",
      "| 240567|0804108692|          0|  5862.0| 7.1200104|\n",
      "| 240567|0743204700|          0|  5556.0| 7.1194706|\n",
      "| 240567|0425179672|          0|  1739.0| 6.6401606|\n",
      "| 240567|0156658992|          0|  7118.0| 6.6347504|\n",
      "| 240567|0805036377|          0|  1330.0|  6.559456|\n",
      "+-------+----------+-----------+--------+----------+\n",
      "only showing top 20 rows\n",
      "\n"
     ]
    }
   ],
   "source": [
    "pred_ratings_user.sort('prediction', ascending=False).show(20)"
   ]
  }
 ],
 "metadata": {
  "kernelspec": {
   "display_name": "Python 3",
   "language": "python",
   "name": "python3"
  },
  "language_info": {
   "codemirror_mode": {
    "name": "ipython",
    "version": 3
   },
   "file_extension": ".py",
   "mimetype": "text/x-python",
   "name": "python",
   "nbconvert_exporter": "python",
   "pygments_lexer": "ipython3",
   "version": "3.8.13"
  },
  "papermill": {
   "duration": 280.903201,
   "end_time": "2022-04-19T00:34:02.356521",
   "environment_variables": {},
   "exception": null,
   "input_path": "__notebook__.ipynb",
   "output_path": "__notebook__.ipynb",
   "parameters": {},
   "start_time": "2022-04-19T00:29:21.453320",
   "version": "2.1.0"
  }
 },
 "nbformat": 4,
 "nbformat_minor": 4
}
